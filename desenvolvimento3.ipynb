{
  "nbformat": 4,
  "nbformat_minor": 0,
  "metadata": {
    "colab": {
      "private_outputs": true,
      "provenance": [],
      "authorship_tag": "ABX9TyPAI2yz38z1XqtMrczn95VA",
      "include_colab_link": true
    },
    "kernelspec": {
      "name": "python3",
      "display_name": "Python 3"
    },
    "language_info": {
      "name": "python"
    }
  },
  "cells": [
    {
      "cell_type": "markdown",
      "metadata": {
        "id": "view-in-github",
        "colab_type": "text"
      },
      "source": [
        "<a href=\"https://colab.research.google.com/github/jaksondeoliveiramartins/talento-cloud/blob/main/desenvolvimento3.ipynb\" target=\"_parent\"><img src=\"https://colab.research.google.com/assets/colab-badge.svg\" alt=\"Open In Colab\"/></a>"
      ]
    },
    {
      "cell_type": "markdown",
      "source": [
        "##Instruções do projeto\n",
        "Precisamos imprimir um número para cada andar de um hotel de 20 andares. Porém, o dono do hotel é supersticioso e optou por não ter um 13ro andar.\n",
        "\n",
        "Escreva um código que imprima todos os números exceto o número 13.\n",
        "Escreva mais um código que resolva o mesmo problema, mas dessa vez usando o laço de repetição 'while'.\n",
        "\n",
        "Como desafio, imprima eles em ordem decrescente (20, 19, 18...)"
      ],
      "metadata": {
        "id": "XbWn6-rk8Nhj"
      }
    },
    {
      "cell_type": "code",
      "source": [
        "for i in range(20,0,-1 ):\n",
        "  if (i != 13):\n",
        "    print(i)"
      ],
      "metadata": {
        "id": "m2gBBrFC8YKp"
      },
      "execution_count": null,
      "outputs": []
    },
    {
      "cell_type": "code",
      "source": [
        "andares = 21;\n",
        "IgnorarNumer = 13;\n",
        "\n",
        "while (andares > 0):\n",
        "  if (andares == 13):\n",
        "    print(\"\" )\n",
        "  else:\n",
        "    print(\"Pavimento:\", andares);\n",
        "  andares = andares - 1\n",
        "\n"
      ],
      "metadata": {
        "id": "nY3AQRZu9-Cc"
      },
      "execution_count": null,
      "outputs": []
    }
  ]
}